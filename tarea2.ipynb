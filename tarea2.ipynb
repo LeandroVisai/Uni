{
 "cells": [
  {
   "cell_type": "markdown",
   "id": "c9af0eb6",
   "metadata": {},
   "source": [
    "# Tarea 2 Ingeniería Financiera\n",
    "\n",
    "Este Notebook contiene el análisis completo seccionado por pregunta."
   ]
  },
  {
   "cell_type": "code",
   "execution_count": null,
   "id": "d9a5eecc",
   "metadata": {},
   "outputs": [
    {
     "name": "stdout",
     "output_type": "stream",
     "text": [
      "Requirement already satisfied: matplotlib in c:\\users\\leandro\\appdata\\local\\packages\\pythonsoftwarefoundation.python.3.11_qbz5n2kfra8p0\\localcache\\local-packages\\python311\\site-packages (3.10.1)\n",
      "Requirement already satisfied: contourpy>=1.0.1 in c:\\users\\leandro\\appdata\\local\\packages\\pythonsoftwarefoundation.python.3.11_qbz5n2kfra8p0\\localcache\\local-packages\\python311\\site-packages (from matplotlib) (1.3.2)\n",
      "Requirement already satisfied: cycler>=0.10 in c:\\users\\leandro\\appdata\\local\\packages\\pythonsoftwarefoundation.python.3.11_qbz5n2kfra8p0\\localcache\\local-packages\\python311\\site-packages (from matplotlib) (0.12.1)\n",
      "Requirement already satisfied: fonttools>=4.22.0 in c:\\users\\leandro\\appdata\\local\\packages\\pythonsoftwarefoundation.python.3.11_qbz5n2kfra8p0\\localcache\\local-packages\\python311\\site-packages (from matplotlib) (4.57.0)\n",
      "Requirement already satisfied: kiwisolver>=1.3.1 in c:\\users\\leandro\\appdata\\local\\packages\\pythonsoftwarefoundation.python.3.11_qbz5n2kfra8p0\\localcache\\local-packages\\python311\\site-packages (from matplotlib) (1.4.8)\n",
      "Requirement already satisfied: numpy>=1.23 in c:\\users\\leandro\\appdata\\local\\packages\\pythonsoftwarefoundation.python.3.11_qbz5n2kfra8p0\\localcache\\local-packages\\python311\\site-packages (from matplotlib) (2.2.5)\n",
      "Requirement already satisfied: packaging>=20.0 in c:\\users\\leandro\\appdata\\local\\packages\\pythonsoftwarefoundation.python.3.11_qbz5n2kfra8p0\\localcache\\local-packages\\python311\\site-packages (from matplotlib) (25.0)\n",
      "Requirement already satisfied: pillow>=8 in c:\\users\\leandro\\appdata\\local\\packages\\pythonsoftwarefoundation.python.3.11_qbz5n2kfra8p0\\localcache\\local-packages\\python311\\site-packages (from matplotlib) (11.2.1)\n",
      "Requirement already satisfied: pyparsing>=2.3.1 in c:\\users\\leandro\\appdata\\local\\packages\\pythonsoftwarefoundation.python.3.11_qbz5n2kfra8p0\\localcache\\local-packages\\python311\\site-packages (from matplotlib) (3.2.3)\n",
      "Requirement already satisfied: python-dateutil>=2.7 in c:\\users\\leandro\\appdata\\local\\packages\\pythonsoftwarefoundation.python.3.11_qbz5n2kfra8p0\\localcache\\local-packages\\python311\\site-packages (from matplotlib) (2.9.0.post0)\n",
      "Requirement already satisfied: six>=1.5 in c:\\users\\leandro\\appdata\\local\\packages\\pythonsoftwarefoundation.python.3.11_qbz5n2kfra8p0\\localcache\\local-packages\\python311\\site-packages (from python-dateutil>=2.7->matplotlib) (1.17.0)\n",
      "Note: you may need to restart the kernel to use updated packages.\n"
     ]
    },
    {
     "name": "stderr",
     "output_type": "stream",
     "text": [
      "\n",
      "[notice] A new release of pip is available: 24.0 -> 25.1\n",
      "[notice] To update, run: C:\\Users\\Leandro\\AppData\\Local\\Microsoft\\WindowsApps\\PythonSoftwareFoundation.Python.3.11_qbz5n2kfra8p0\\python.exe -m pip install --upgrade pip\n"
     ]
    }
   ],
   "source": [
    "pip install matplotlib"
   ]
  },
  {
   "cell_type": "code",
   "execution_count": 1,
   "id": "fa8e30e9",
   "metadata": {},
   "outputs": [
    {
     "name": "stdout",
     "output_type": "stream",
     "text": [
      "Requirement already satisfied: pandas in c:\\users\\leandro\\appdata\\local\\packages\\pythonsoftwarefoundation.python.3.11_qbz5n2kfra8p0\\localcache\\local-packages\\python311\\site-packages (2.2.3)\n",
      "Requirement already satisfied: numpy>=1.23.2 in c:\\users\\leandro\\appdata\\local\\packages\\pythonsoftwarefoundation.python.3.11_qbz5n2kfra8p0\\localcache\\local-packages\\python311\\site-packages (from pandas) (2.2.5)\n",
      "Requirement already satisfied: python-dateutil>=2.8.2 in c:\\users\\leandro\\appdata\\local\\packages\\pythonsoftwarefoundation.python.3.11_qbz5n2kfra8p0\\localcache\\local-packages\\python311\\site-packages (from pandas) (2.9.0.post0)\n",
      "Requirement already satisfied: pytz>=2020.1 in c:\\users\\leandro\\appdata\\local\\packages\\pythonsoftwarefoundation.python.3.11_qbz5n2kfra8p0\\localcache\\local-packages\\python311\\site-packages (from pandas) (2025.2)\n",
      "Requirement already satisfied: tzdata>=2022.7 in c:\\users\\leandro\\appdata\\local\\packages\\pythonsoftwarefoundation.python.3.11_qbz5n2kfra8p0\\localcache\\local-packages\\python311\\site-packages (from pandas) (2025.2)\n",
      "Requirement already satisfied: six>=1.5 in c:\\users\\leandro\\appdata\\local\\packages\\pythonsoftwarefoundation.python.3.11_qbz5n2kfra8p0\\localcache\\local-packages\\python311\\site-packages (from python-dateutil>=2.8.2->pandas) (1.17.0)\n",
      "Note: you may need to restart the kernel to use updated packages.\n"
     ]
    },
    {
     "name": "stderr",
     "output_type": "stream",
     "text": [
      "\n",
      "[notice] A new release of pip is available: 24.0 -> 25.1\n",
      "[notice] To update, run: C:\\Users\\Leandro\\AppData\\Local\\Microsoft\\WindowsApps\\PythonSoftwareFoundation.Python.3.11_qbz5n2kfra8p0\\python.exe -m pip install --upgrade pip\n"
     ]
    }
   ],
   "source": [
    "pip install pandas"
   ]
  },
  {
   "cell_type": "code",
   "execution_count": 2,
   "id": "01aa23b2",
   "metadata": {},
   "outputs": [],
   "source": [
    "# filepath: /Users/leandrovenegas/Documents/GitHub/Uni/tarea2.ipynb\n",
    "import pandas as pd\n",
    "import numpy as np\n",
    "import matplotlib.pyplot as plt"
   ]
  },
  {
   "cell_type": "code",
   "execution_count": 3,
   "id": "c2b981d0",
   "metadata": {},
   "outputs": [],
   "source": [
    "### Setup: Lectura de datos\n",
    "# Leer todas las hojas del archivo Excel\n",
    "ruta_archivo = \"Base de datos completa.xlsx\"  # Ajustar ruta si es necesario\n",
    "datos = pd.read_excel(ruta_archivo, sheet_name=None)"
   ]
  },
  {
   "cell_type": "code",
   "execution_count": 4,
   "id": "bc1728a6",
   "metadata": {},
   "outputs": [
    {
     "name": "stdout",
     "output_type": "stream",
     "text": [
      "Hoja: Tipo de Cambio\n",
      "        Date   Price\n",
      "0 2022-04-25  834.45\n",
      "1 2022-04-26  850.85\n",
      "2 2022-04-27  847.57\n",
      "3 2022-04-28  847.44\n",
      "4 2022-04-29  856.58\n",
      "Hoja: Apple Stock Price History (3)\n",
      "        Date   Price\n",
      "0 2022-04-25  162.88\n",
      "1 2022-04-26  156.80\n",
      "2 2022-04-27  156.57\n",
      "3 2022-04-28  163.64\n",
      "4 2022-04-29  157.65\n",
      "Hoja: Coca-Cola Stock Price History (\n",
      "        Date  Price\n",
      "0 2022-04-25  65.94\n",
      "1 2022-04-26  65.05\n",
      "2 2022-04-27  65.56\n",
      "3 2022-04-28  66.19\n",
      "4 2022-04-29  64.61\n",
      "Hoja: Banco De Chile Stock Price Hist\n",
      "        Date  Price\n",
      "0 2022-04-25  20.95\n",
      "1 2022-04-26  20.67\n",
      "2 2022-04-27  20.60\n",
      "3 2022-04-28  20.14\n",
      "4 2022-04-29  20.08\n",
      "Hoja: Cervecerias ADR Stock Price His\n",
      "        Date  Price\n",
      "0 2022-04-25  13.40\n",
      "1 2022-04-26  13.34\n",
      "2 2022-04-27  13.37\n",
      "3 2022-04-28  13.37\n",
      "4 2022-04-29  13.34\n",
      "Hoja: Enel Chile ADR Stock Price Hist\n",
      "        Date  Price\n",
      "0 2022-04-25   1.42\n",
      "1 2022-04-26   1.36\n",
      "2 2022-04-27   1.33\n",
      "3 2022-04-28   1.36\n",
      "4 2022-04-29   1.34\n",
      "Hoja: LATAM Airlines ADR Stock Price \n",
      "        Date    Price\n",
      "0 2022-04-25  578.326\n",
      "1 2022-04-26  570.485\n",
      "2 2022-04-27  558.722\n",
      "3 2022-04-28  567.740\n",
      "4 2022-04-29  545.979\n"
     ]
    }
   ],
   "source": [
    "# Mostrar las primeras filas de cada hoja\n",
    "for hoja, df in datos.items():\n",
    "    print(f\"Hoja: {hoja}\")\n",
    "    print(df.head())"
   ]
  },
  {
   "cell_type": "code",
   "execution_count": 5,
   "id": "9c73cb6b",
   "metadata": {},
   "outputs": [],
   "source": [
    "log_returns = {}\n",
    "\n",
    "# Preparar tipo de cambio si existe\n",
    "exchange_rate = datos.get(\"Tipo de Cambio\")\n",
    "if exchange_rate is not None and not exchange_rate.empty:\n",
    "    exchange_rate['Date'] = pd.to_datetime(exchange_rate['Date'])\n",
    "    exchange_rate.sort_values('Date', inplace=True)\n",
    "\n",
    "# Procesar cada hoja de datos\n",
    "for asset, df in datos.items():\n",
    "    # Omitir hoja de tipo de cambio o data inválida\n",
    "    if asset == \"Tipo de Cambio\" or df.empty or 'Date' not in df.columns or 'Price' not in df.columns:\n",
    "        continue\n",
    "\n",
    "    # Convertir fechas y ordenar\n",
    "    df['Date'] = pd.to_datetime(df['Date'])\n",
    "    df.sort_values('Date', inplace=True)\n",
    "\n",
    "    # Ajustar precios a pesos si existe tipo de cambio\n",
    "    if exchange_rate is not None and not exchange_rate.empty:\n",
    "        df = pd.merge(df, exchange_rate[['Date', 'Price']], on='Date', how='left', suffixes=('', '_tc'))\n",
    "        df['Price'] *= df['Price_tc']  # Convertir a pesos\n",
    "\n",
    "    # Filtrar datos hasta un año antes de la última fecha disponible\n",
    "    cutoff = df['Date'].max() - pd.DateOffset(years=1)\n",
    "    df = df[df['Date'] <= cutoff].copy()\n",
    "\n",
    "    # Calcular retornos logarítmicos diarios\n",
    "    df['log_return'] = np.log(df['Price'] / df['Price'].shift(1))\n",
    "\n",
    "    # Guardar resultados sin valores nulos\n",
    "    log_returns[asset] = df.dropna(subset=['log_return'])\n"
   ]
  },
  {
   "cell_type": "code",
   "execution_count": 6,
   "id": "2c4cf8e4",
   "metadata": {},
   "outputs": [
    {
     "name": "stdout",
     "output_type": "stream",
     "text": [
      "Retornos esperados anuales:\n",
      "Apple Stock Price History (3): 6.4235%\n",
      "Coca-Cola Stock Price History (: -0.9920%\n",
      "Banco De Chile Stock Price Hist: 8.0665%\n",
      "Cervecerias ADR Stock Price His: 3.2947%\n",
      "Enel Chile ADR Stock Price Hist: 37.6500%\n",
      "LATAM Airlines ADR Stock Price : 70.9913%\n",
      "\n",
      " Volatilidades anuales:\n",
      "Apple Stock Price History (3): 31.7011%\n",
      "Coca-Cola Stock Price History (: 22.7095%\n",
      "Banco De Chile Stock Price Hist: 31.5361%\n",
      "Cervecerias ADR Stock Price His: 33.8403%\n",
      "Enel Chile ADR Stock Price Hist: 48.4899%\n",
      "LATAM Airlines ADR Stock Price : 107.5772%\n"
     ]
    }
   ],
   "source": [
    "expected_returns_annual = {}\n",
    "volatility_annual = {}\n",
    "\n",
    "# Anualización de estadísticas diarias (252 días hábiles al año)\n",
    "for asset, df in log_returns.items():\n",
    "    mu = df['log_return'].mean() #Retorno promedio\n",
    "    sigma = df['log_return'].std() #Desviación.\n",
    "    expected_returns_annual[asset] = mu * 252\n",
    "    volatility_annual[asset] = sigma * np.sqrt(252)\n",
    "\n",
    "# Mostrar resultados\n",
    "print(\"Retornos esperados anuales:\")\n",
    "for asset, r in expected_returns_annual.items():\n",
    "    print(f\"{asset}: {r:.4%}\")\n",
    "\n",
    "print(\"\\n Volatilidades anuales:\")\n",
    "for asset, v in volatility_annual.items():\n",
    "    print(f\"{asset}: {v:.4%}\")\n"
   ]
  },
  {
   "cell_type": "code",
   "execution_count": 7,
   "id": "3358d08f",
   "metadata": {},
   "outputs": [],
   "source": [
    "# Armar DataFrame de retornos alineado por fecha\n",
    "returns_df = pd.DataFrame({\n",
    "    asset: df.set_index('Date')['log_return'] for asset, df in log_returns.items()\n",
    "})\n",
    "\n",
    "returns_df.dropna(inplace=True)  # Alinear fechas comunes\n"
   ]
  },
  {
   "cell_type": "markdown",
   "id": "e05688b7",
   "metadata": {},
   "source": [
    "## (b) Cartera de mínima varianza y (c) Recomendación: Cartera de mínimo riesgo\n",
    "\n",
    "La siguiente celda estima la cartera de mínima varianza (parte de la frontera eficiente) y emite una recomendación."
   ]
  },
  {
   "cell_type": "code",
   "execution_count": 8,
   "id": "c7de57de",
   "metadata": {},
   "outputs": [],
   "source": [
    "# Calcular matriz de covarianza anualizada\n",
    "cov_annual = returns_df.cov() * 252"
   ]
  },
  {
   "cell_type": "code",
   "execution_count": 9,
   "id": "3a1823b4",
   "metadata": {},
   "outputs": [],
   "source": [
    "# Convertir a arrays para cálculos matriciales\n",
    "mu = np.array([expected_returns_annual[asset] for asset in returns_df.columns])\n",
    "Sigma = cov_annual.values\n",
    "ones = np.ones(len(mu))\n",
    "\n",
    "# Cálculo de escalares a, b, c, d\n",
    "Sigma_inv = np.linalg.inv(Sigma)\n",
    "a = ones.T @ Sigma_inv @ mu\n",
    "b = mu.T @ Sigma_inv @ mu\n",
    "c = ones.T @ Sigma_inv @ ones\n",
    "d = b * c - a**2\n",
    "\n",
    "# Cálculo de vectores g y h\n",
    "g = (c * Sigma_inv @ mu - a * Sigma_inv @ ones) / d\n",
    "h = (b * Sigma_inv @ ones - a * Sigma_inv @ mu) / d\n",
    "\n"
   ]
  },
  {
   "cell_type": "code",
   "execution_count": 10,
   "id": "73564202",
   "metadata": {},
   "outputs": [
    {
     "data": {
      "image/png": "[encoded data removed]",
      "text/plain": [
       "<Figure size 1000x600 with 1 Axes>"
      ]
     },
     "metadata": {},
     "output_type": "display_data"
    }
   ],
   "source": [
    "# Rango de retornos anuales para construir la frontera\n",
    "r_vals = np.linspace(min(mu) * 0.8, max(mu) * 1.2, 100)\n",
    "\n",
    "# Calcular volatilidades asociadas a cada retorno\n",
    "vol_vals = np.sqrt((c * r_vals**2 - 2 * a * r_vals + b) / d)\n",
    "\n",
    "# Graficar\n",
    "plt.figure(figsize=(10, 6))\n",
    "plt.plot(vol_vals, r_vals, label='Frontera Eficiente', color='blue')\n",
    "plt.scatter(np.sqrt(np.diag(Sigma)), mu, color='black', marker='x', label='Activos individuales')\n",
    "plt.xlabel('Volatilidad Anual')\n",
    "plt.ylabel('Retorno Esperado Anual')\n",
    "plt.title('Frontera Eficiente de Carteras (con ventas cortas)')\n",
    "plt.grid(True)\n",
    "plt.legend()\n",
    "plt.show()\n"
   ]
  },
  {
   "cell_type": "code",
   "execution_count": 11,
   "id": "64f7270c",
   "metadata": {},
   "outputs": [
    {
     "name": "stdout",
     "output_type": "stream",
     "text": [
      "Recomendación de cartera de mínimo riesgo (parte c):\n",
      "Retorno esperado anual: 1.88%\n",
      "Volatilidad anual: 21.48%\n",
      "Pesos del portafolio:\n",
      "  Apple Stock Price History (3): 9.58%\n",
      "  Coca-Cola Stock Price History (: 69.32%\n",
      "  Banco De Chile Stock Price Hist: 23.04%\n",
      "  Cervecerias ADR Stock Price His: -1.71%\n",
      "  Enel Chile ADR Stock Price Hist: -0.96%\n",
      "  LATAM Airlines ADR Stock Price : 0.72%\n"
     ]
    }
   ],
   "source": [
    "#Parte c# Retorno y riesgo del portafolio de mínima varianza (teóricamente óptimo)\n",
    "r_minvar = a / c\n",
    "sigma_minvar = np.sqrt(1 / c)\n",
    "w_minvar = r_minvar * g + h\n",
    "\n",
    "print(\"Recomendación de cartera de mínimo riesgo (parte c):\")\n",
    "print(f\"Retorno esperado anual: {r_minvar:.2%}\")\n",
    "print(f\"Volatilidad anual: {sigma_minvar:.2%}\")\n",
    "print(\"Pesos del portafolio:\")\n",
    "for asset, weight in zip(returns_df.columns, w_minvar):\n",
    "    print(f\"  {asset}: {weight:.2%}\")\n"
   ]
  },
  {
   "cell_type": "markdown",
   "id": "a52afc5a",
   "metadata": {},
   "source": [
    "## (d) Cartera tangente con tasa libre de riesgo\n",
    "\n",
    "Se utiliza una tasa libre de riesgo (por ejemplo, 5.75% por cambiar) para obtener la cartera tangente."
   ]
  },
  {
   "cell_type": "code",
   "execution_count": 12,
   "id": "9b6ec8d4",
   "metadata": {},
   "outputs": [],
   "source": [
    "# Tasa libre de riesgo anual (en decimales)\n",
    "r_f = 0.0575  # 5.75%, por ejemplo para un BCP a 1 año\n"
   ]
  },
  {
   "cell_type": "code",
   "execution_count": 13,
   "id": "f8b66c64",
   "metadata": {},
   "outputs": [
    {
     "name": "stdout",
     "output_type": "stream",
     "text": [
      "\n",
      "Cartera tangente (parte d):\n",
      "Tasa libre de riesgo: 5.75%\n",
      "Retorno esperado: 85.19%\n",
      "Volatilidad anual: 80.07%\n",
      "Pesos del portafolio:\n",
      "  Apple Stock Price History (3): 48.66%\n",
      "  Coca-Cola Stock Price History (: -99.64%\n",
      "  Banco De Chile Stock Price Hist: 24.80%\n",
      "  Cervecerias ADR Stock Price His: -49.31%\n",
      "  Enel Chile ADR Stock Price Hist: 131.61%\n",
      "  LATAM Airlines ADR Stock Price : 43.87%\n"
     ]
    }
   ],
   "source": [
    "# Maximizar Sharpe Ratio => tangente a la frontera eficiente\n",
    "# Encontramos el r que maximiza (r - r_f) / sigma(r)\n",
    "sharpe_ratios = []\n",
    "r_vals = np.linspace(min(mu)*0.8, max(mu)*1.2, 100)\n",
    "best_r, best_w, best_sigma = None, None, None\n",
    "\n",
    "for r in r_vals:\n",
    "    w_r = r * g + h\n",
    "    sigma_r = np.sqrt(w_r.T @ Sigma @ w_r)\n",
    "    sharpe = (r - r_f) / sigma_r\n",
    "    sharpe_ratios.append(sharpe)\n",
    "\n",
    "    if best_r is None or sharpe > max(sharpe_ratios[:-1]):\n",
    "        best_r, best_w, best_sigma = r, w_r, sigma_r\n",
    "\n",
    "print(\"\\nCartera tangente (parte d):\")\n",
    "print(f\"Tasa libre de riesgo: {r_f:.2%}\")\n",
    "print(f\"Retorno esperado: {best_r:.2%}\")\n",
    "print(f\"Volatilidad anual: {best_sigma:.2%}\")\n",
    "print(\"Pesos del portafolio:\")\n",
    "for asset, weight in zip(returns_df.columns, best_w):\n",
    "    print(f\"  {asset}: {weight:.2%}\")\n"
   ]
  },
  {
   "cell_type": "markdown",
   "id": "13b0a5f8",
   "metadata": {},
   "source": [
    "## (e) Cartera de mercado y betas\n",
    "\n",
    "Se asume que la cartera de mercado es la cartera tangente calculada en (d). Se calcula el retorno y la volatilidad anual, y se estima el beta de cada activo."
   ]
  },
  {
   "cell_type": "code",
   "execution_count": 14,
   "id": "6bf3ed88",
   "metadata": {},
   "outputs": [],
   "source": [
    "w_market = best_w           # cartera tangente = cartera de mercado\n",
    "r_market = best_r           # retorno esperado\n",
    "sigma_market = best_sigma   # desviación estándar\n"
   ]
  },
  {
   "cell_type": "code",
   "execution_count": 15,
   "metadata": {},
   "outputs": [
    {
     "name": "stdout",
     "output_type": "stream",
     "text": [
      "Resultados parte (e):\n",
      "Retorno esperado del mercado: 85.19%\n",
      "Volatilidad del mercado: 80.07%\n",
      "Pesos del portafolio de mercado:\n",
      "  Apple Stock Price History (3): 48.66%\n",
      "  Coca-Cola Stock Price History (: -99.64%\n",
      "  Banco De Chile Stock Price Hist: 24.80%\n",
      "  Cervecerias ADR Stock Price His: -49.31%\n",
      "  Enel Chile ADR Stock Price Hist: 131.61%\n",
      "  LATAM Airlines ADR Stock Price : 43.87%\n",
      "Betas de los activos:\n",
      "  Apple Stock Price History (3): 0.1225\n",
      "  Coca-Cola Stock Price History (: 0.0399\n",
      "  Banco De Chile Stock Price Hist: 0.1409\n",
      "  Cervecerias ADR Stock Price His: 0.0877\n",
      "  Enel Chile ADR Stock Price Hist: 0.4704\n",
      "  LATAM Airlines ADR Stock Price : 0.8418\n"
     ]
    }
   ],
   "source": [
    "# Producto Sigma * w_market\n",
    "Sigma_w = Sigma @ w_market\n",
    "var_market = w_market.T @ Sigma @ w_market\n",
    "betas = {asset: Sigma_w[i] / var_market for i, asset in enumerate(returns_df.columns)}\n",
    "\n",
    "print(\"Resultados parte (e):\")\n",
    "print(f\"Retorno esperado del mercado: {r_market:.2%}\")\n",
    "print(f\"Volatilidad del mercado: {sigma_market:.2%}\")\n",
    "print(\"Pesos del portafolio de mercado:\")\n",
    "for asset, weight in zip(returns_df.columns, w_market):\n",
    "    print(f\"  {asset}: {weight:.2%}\")\n",
    "print(\"Betas de los activos:\")\n",
    "for asset, beta in betas.items():\n",
    "    print(f\"  {asset}: {beta:.4f}\")\n"
   ]
  },
  {
   "cell_type": "markdown",
   "id": "fd74c09e",
   "metadata": {},
   "source": [
    "Discusión del supuesto en (a):\n",
    "En (a) asumiste que los retornos esperados eran simplemente la media histórica anual de los log-retornos. Sin embargo, el CAPM implica que los retornos esperados deben estar alineados con los betas:\n",
    "\n",
    "𝐸[𝑟_𝑖]=𝑟_𝑓+𝛽_𝑖(𝐸[𝑟_𝑚]−𝑟_𝑓)\n",
    "\n",
    "Podrías comparar los retornos empíricos vs. los retornos esperados por CAPM para validar o ajustar."
   ]
  },
  {
   "cell_type": "markdown",
   "id": "6628cd3c",
   "metadata": {},
   "source": [
    "## (f) Optimización sin ventas cortas\n",
    "\n",
    "Utilizando `scipy.optimize.minimize`, se optimiza la cartera de mínima varianza y la tangente imponiendo que todos los pesos sean mayores o iguales a cero y que sumen 1."
   ]
  },
  {
   "cell_type": "code",
   "execution_count": 20,
   "id": "ebb4ce00",
   "metadata": {},
   "outputs": [
    {
     "name": "stdout",
     "output_type": "stream",
     "text": [
      "Collecting scipy\n",
      "  Downloading scipy-1.15.2-cp311-cp311-win_amd64.whl.metadata (60 kB)\n",
      "     ---------------------------------------- 0.0/60.8 kB ? eta -:--:--\n",
      "     ------ --------------------------------- 10.2/60.8 kB ? eta -:--:--\n",
      "     ------------------------- ------------ 41.0/60.8 kB 393.8 kB/s eta 0:00:01\n",
      "     -------------------------------------- 60.8/60.8 kB 459.3 kB/s eta 0:00:00\n",
      "Requirement already satisfied: numpy<2.5,>=1.23.5 in c:\\users\\leandro\\appdata\\local\\packages\\pythonsoftwarefoundation.python.3.11_qbz5n2kfra8p0\\localcache\\local-packages\\python311\\site-packages (from scipy) (2.2.5)\n",
      "Downloading scipy-1.15.2-cp311-cp311-win_amd64.whl (41.2 MB)\n",
      "   ---------------------------------------- 0.0/41.2 MB ? eta -:--:--\n",
      "   ---------------------------------------- 0.1/41.2 MB 3.5 MB/s eta 0:00:12\n",
      "   ---------------------------------------- 0.2/41.2 MB 3.7 MB/s eta 0:00:12\n",
      "   ---------------------------------------- 0.2/41.2 MB 2.1 MB/s eta 0:00:20\n",
      "   ---------------------------------------- 0.4/41.2 MB 2.1 MB/s eta 0:00:20\n",
      "    --------------------------------------- 0.6/41.2 MB 2.6 MB/s eta 0:00:16\n",
      "   - -------------------------------------- 1.6/41.2 MB 6.2 MB/s eta 0:00:07\n",
      "   ---- ----------------------------------- 4.4/41.2 MB 14.0 MB/s eta 0:00:03\n",
      "   ------- -------------------------------- 8.1/41.2 MB 22.4 MB/s eta 0:00:02\n",
      "   ------------ --------------------------- 12.8/41.2 MB 81.8 MB/s eta 0:00:01\n",
      "   ----------------- ---------------------- 18.2/41.2 MB 110.0 MB/s eta 0:00:01\n",
      "   ----------------------- ---------------- 23.7/41.2 MB 110.0 MB/s eta 0:00:01\n",
      "   ---------------------------- ----------- 29.1/41.2 MB 108.8 MB/s eta 0:00:01\n",
      "   --------------------------------- ------ 34.5/41.2 MB 108.8 MB/s eta 0:00:01\n",
      "   ------------------------------------- -- 39.0/41.2 MB 108.8 MB/s eta 0:00:01\n",
      "   ---------------------------------------  41.2/41.2 MB 108.8 MB/s eta 0:00:01\n",
      "   ---------------------------------------  41.2/41.2 MB 108.8 MB/s eta 0:00:01\n",
      "   ---------------------------------------  41.2/41.2 MB 108.8 MB/s eta 0:00:01\n",
      "   ---------------------------------------  41.2/41.2 MB 108.8 MB/s eta 0:00:01\n",
      "   ---------------------------------------  41.2/41.2 MB 108.8 MB/s eta 0:00:01\n",
      "   ---------------------------------------  41.2/41.2 MB 108.8 MB/s eta 0:00:01\n",
      "   ---------------------------------------  41.2/41.2 MB 108.8 MB/s eta 0:00:01\n",
      "   ---------------------------------------- 41.2/41.2 MB 25.2 MB/s eta 0:00:00\n",
      "Installing collected packages: scipy\n",
      "Successfully installed scipy-1.15.2\n",
      "Note: you may need to restart the kernel to use updated packages.\n"
     ]
    },
    {
     "name": "stderr",
     "output_type": "stream",
     "text": [
      "\n",
      "[notice] A new release of pip is available: 24.0 -> 25.1\n",
      "[notice] To update, run: C:\\Users\\Leandro\\AppData\\Local\\Microsoft\\WindowsApps\\PythonSoftwareFoundation.Python.3.11_qbz5n2kfra8p0\\python.exe -m pip install --upgrade pip\n"
     ]
    }
   ],
   "source": [
    "pip install scipy"
   ]
  },
  {
   "cell_type": "code",
   "execution_count": 21,
   "id": "97d7a621",
   "metadata": {},
   "outputs": [
    {
     "ename": "NameError",
     "evalue": "name 'port_return_min_ns' is not defined",
     "output_type": "error",
     "traceback": [
      "\u001b[31m---------------------------------------------------------------------------\u001b[39m",
      "\u001b[31mNameError\u001b[39m                                 Traceback (most recent call last)",
      "\u001b[36mCell\u001b[39m\u001b[36m \u001b[39m\u001b[32mIn[21]\u001b[39m\u001b[32m, line 22\u001b[39m\n\u001b[32m     19\u001b[39m     \u001b[38;5;28;01mreturn\u001b[39;00m res.x \u001b[38;5;28;01mif\u001b[39;00m res.success \u001b[38;5;28;01melse\u001b[39;00m \u001b[38;5;28;01mNone\u001b[39;00m\n\u001b[32m     21\u001b[39m \u001b[38;5;66;03m# Definir retornos objetivos\u001b[39;00m\n\u001b[32m---> \u001b[39m\u001b[32m22\u001b[39m target_low = \u001b[43mport_return_min_ns\u001b[49m + \u001b[32m0.0005\u001b[39m\n\u001b[32m     23\u001b[39m target_med = (port_return_min_ns + tan_return_ns) / \u001b[32m2\u001b[39m\n\u001b[32m     24\u001b[39m target_high = tan_return_ns - \u001b[32m0.0005\u001b[39m\n",
      "\u001b[31mNameError\u001b[39m: name 'port_return_min_ns' is not defined"
     ]
    }
   ],
   "source": [
    "from scipy.optimize import minimize\n",
    "import numpy as np\n",
    "\n",
    "# Número de activos\n",
    "n = len(returns_df.columns)\n",
    "\n",
    "# Restricciones básicas: sin ventas cortas y suma de pesos = 1\n",
    "bounds = [(0, 1) for _ in range(n)]\n",
    "constraints = [{'type': 'eq', 'fun': lambda w: np.sum(w) - 1}]\n",
    "\n",
    "# Función objetivo: minimizar la varianza del portafolio\n",
    "def min_vol_objective(w):\n",
    "    return w.T @ cov_annual.values @ w\n",
    "\n",
    "# Optimizador generalizado para un retorno objetivo\n",
    "def optimize_portfolio_target(target_return):\n",
    "    cons = constraints + [{'type': 'eq', 'fun': lambda w: sum(w[i] * expected_returns_annual[asset] for i, asset in enumerate(returns_df.columns)) - target_return}]\n",
    "    res = minimize(min_vol_objective, np.ones(n)/n, bounds=bounds, constraints=cons)\n",
    "    return res.x if res.success else None\n",
    "\n",
    "# Definir retornos objetivos\n",
    "target_low = port_return_min_ns + 0.0005\n",
    "target_med = (port_return_min_ns + tan_return_ns) / 2\n",
    "target_high = tan_return_ns - 0.0005\n",
    "\n",
    "w_low = optimize_portfolio_target(target_low)\n",
    "w_med = optimize_portfolio_target(target_med)\n",
    "w_high = optimize_portfolio_target(target_high)\n",
    "\n",
    "# Evaluar desempeño del último año\n",
    "def performance_last_year(weights):\n",
    "    last_year_returns = []\n",
    "    for asset, df in datos.items():\n",
    "        if asset == \"Tipo de Cambio\" or df.empty or 'Date' not in df.columns or 'Price' not in df.columns:\n",
    "            continue\n",
    "        df['Date'] = pd.to_datetime(df['Date'])\n",
    "        df.sort_values('Date', inplace=True)\n",
    "        cutoff = df['Date'].max() - pd.DateOffset(years=1)\n",
    "        df_ly = df[df['Date'] > cutoff].copy()\n",
    "        df_ly['log_return'] = np.log(df_ly['Price'] / df_ly['Price'].shift(1))\n",
    "        df_ly = df_ly.dropna(subset=['log_return'])\n",
    "        last_year_returns.append(df_ly.set_index('Date')['log_return'].rename(asset))\n",
    "    if not last_year_returns:\n",
    "        return None, None\n",
    "    ly_df = pd.concat(last_year_returns, axis=1).dropna()\n",
    "    port_daily = ly_df.dot(weights)\n",
    "    cum_return = np.exp(port_daily.sum()) - 1\n",
    "    return port_daily.mean() * 252, port_daily.std() * np.sqrt(252), cum_return  # anualizado\n",
    "\n",
    "# Resultados\n",
    "for label, weights in zip(['A (alto riesgo)', 'B (riesgo medio)', 'C (bajo riesgo)'], [w_high, w_med, w_low]):\n",
    "    mean_ret, std_ret, cum_ret = performance_last_year(weights)\n",
    "    print(f\"Cartera {label}, sin ventas cortas:\")\n",
    "    print(\"Pesos:\", weights)\n",
    "    print(\"Retorno esperado anual:\", mean_ret)\n",
    "    print(\"Volatilidad anual:\", std_ret)\n",
    "    print(\"Retorno acumulado último año:\", cum_ret)\n",
    "    print(\"-\" * 50)\n"
   ]
  },
  {
   "cell_type": "markdown",
   "id": "b47b56d9",
   "metadata": {},
   "source": [
    "## (g) Construcción de 3 carteras en la frontera sin ventas cortas y evaluación del desempeño\n",
    "\n",
    "Se crean tres portafolios (A, B y C) con distintos objetivos de retorno y se evalúa el desempeño en el último año."
   ]
  },
  {
   "cell_type": "code",
   "execution_count": null,
   "id": "ddd52440",
   "metadata": {},
   "outputs": [],
   "source": [
    "# filepath: /Users/leandrovenegas/Documents/GitHub/Uni/tarea2.ipynb\n",
    "def optimize_portfolio_target(target_return):\n",
    "    cons = constraints + [{'type': 'eq', 'fun': lambda w: sum(w[i] * expected_returns_annual[asset] for i, asset in enumerate(returns_df.columns)) - target_return}]\n",
    "    res = minimize(min_vol_objective, np.ones(n)/n, bounds=bounds, constraints=cons)\n",
    "    return res.x\n",
    "\n",
    "# Definir 3 objetivos de retorno\n",
    "target_low = port_return_min_ns + 0.0005   # objetivo ligeramente superior a la cartera mínima\n",
    "target_med = (port_return_min_ns + tan_return_ns) / 2\n",
    "target_high = tan_return_ns - 0.0005          # objetivo ligeramente inferior al máximo\n",
    "\n",
    "w_low = optimize_portfolio_target(target_low)\n",
    "w_med = optimize_portfolio_target(target_med)\n",
    "w_high = optimize_portfolio_target(target_high)\n",
    "\n",
    "def performance_last_year(weights):\n",
    "    last_year_returns = []\n",
    "    for asset, df in datos.items():\n",
    "        if df.empty or 'Date' not in df.columns or 'Price' not in df.columns:\n",
    "            continue\n",
    "        df['Date'] = pd.to_datetime(df['Date'])\n",
    "        df.sort_values('Date', inplace=True)\n",
    "        cutoff = df['Date'].max() - pd.DateOffset(years=1)\n",
    "        df_ly = df[df['Date'] > cutoff].copy()\n",
    "        df_ly['log_return'] = np.log(df_ly['Price'] / df_ly['Price'].shift(1))\n",
    "        df_ly = df_ly.dropna(subset=['log_return'])\n",
    "        last_year_returns.append(df_ly.set_index('Date')['log_return'].rename(asset))\n",
    "    if not last_year_returns:\n",
    "        return None, None\n",
    "    ly_df = pd.concat(last_year_returns, axis=1).dropna()\n",
    "    port_daily = ly_df.dot(weights)\n",
    "    cum_return = np.exp(port_daily.sum()) - 1\n",
    "    return port_daily.mean(), cum_return\n",
    "\n",
    "print(\"Cartera A (alto riesgo, sin ventas cortas):\")\n",
    "print(\"Pesos:\", w_high)\n",
    "mean_A, cum_A = performance_last_year(w_high)\n",
    "print(\"Retorno diario promedio:\", mean_A, \"Retorno acumulado:\", cum_A)\n",
    "\n",
    "print(\"Cartera B (riesgo mediano, sin ventas cortas):\")\n",
    "print(\"Pesos:\", w_med)\n",
    "mean_B, cum_B = performance_last_year(w_med)\n",
    "print(\"Retorno diario promedio:\", mean_B, \"Retorno acumulado:\", cum_B)\n",
    "\n",
    "print(\"Cartera C (bajo riesgo, sin ventas cortas):\")\n",
    "print(\"Pesos:\", w_low)\n",
    "mean_C, cum_C = performance_last_year(w_low)\n",
    "print(\"Retorno diario promedio:\", mean_C, \"Retorno acumulado:\", cum_C)"
   ]
  },
  {
   "cell_type": "markdown",
   "id": "a863eb43",
   "metadata": {},
   "source": [
    "## (h) Modelo Black-Litterman (Bonus)\n",
    "\n",
    "Implementación simplificada del modelo Black-Litterman. Se parte de los retornos implícitos del mercado y se incorpora una vista sobre el primer activo."
   ]
  },
  {
   "cell_type": "code",
   "execution_count": null,
   "id": "13aa3d81",
   "metadata": {},
   "outputs": [],
   "source": []
  }
 ],
 "metadata": {
  "kernelspec": {
   "display_name": "Python 3",
   "language": "python",
   "name": "python3"
  },
  "language_info": {
   "codemirror_mode": {
    "name": "ipython",
    "version": 3
   },
   "file_extension": ".py",
   "mimetype": "text/x-python",
   "name": "python",
   "nbconvert_exporter": "python",
   "pygments_lexer": "ipython3",
   "version": "3.11.9"
  }
 },
 "nbformat": 4,
 "nbformat_minor": 5
}
