{
 "cells": [
  {
   "cell_type": "markdown",
   "id": "c9af0eb6",
   "metadata": {},
   "source": [
    "# Tarea 2 Ingeniería Financiera\n",
    "\n",
    "Este Notebook contiene el análisis completo seccionado por pregunta."
   ]
  },
  {
   "cell_type": "code",
   "execution_count": 8,
   "id": "01aa23b2",
   "metadata": {},
   "outputs": [],
   "source": [
    "# filepath: /Users/leandrovenegas/Documents/GitHub/Uni/tarea2.ipynb\n",
    "import pandas as pd\n",
    "import numpy as np"
   ]
  },
  {
   "cell_type": "code",
   "execution_count": 9,
   "id": "c2b981d0",
   "metadata": {},
   "outputs": [],
   "source": [
    "### Setup: Lectura de datos\n",
    "# Leer todas las hojas del archivo Excel\n",
    "ruta_archivo = \"Base de datos completa.xlsx\"  # Ajustar ruta si es necesario\n",
    "datos = pd.read_excel(ruta_archivo, sheet_name=None)"
   ]
  },
  {
   "cell_type": "code",
   "execution_count": 10,
   "id": "bc1728a6",
   "metadata": {},
   "outputs": [
    {
     "name": "stdout",
     "output_type": "stream",
     "text": [
      "Hoja: Tipo de Cambio\n",
      "        Date   Price\n",
      "0 2022-04-25  834.45\n",
      "1 2022-04-26  850.85\n",
      "2 2022-04-27  847.57\n",
      "3 2022-04-28  847.44\n",
      "4 2022-04-29  856.58\n",
      "Hoja: Apple Stock Price History (3)\n",
      "        Date   Price\n",
      "0 2022-04-25  162.88\n",
      "1 2022-04-26  156.80\n",
      "2 2022-04-27  156.57\n",
      "3 2022-04-28  163.64\n",
      "4 2022-04-29  157.65\n",
      "Hoja: Coca-Cola Stock Price History (\n",
      "        Date  Price\n",
      "0 2022-04-25  65.94\n",
      "1 2022-04-26  65.05\n",
      "2 2022-04-27  65.56\n",
      "3 2022-04-28  66.19\n",
      "4 2022-04-29  64.61\n",
      "Hoja: Banco De Chile Stock Price Hist\n",
      "        Date  Price\n",
      "0 2022-04-25  20.95\n",
      "1 2022-04-26  20.67\n",
      "2 2022-04-27  20.60\n",
      "3 2022-04-28  20.14\n",
      "4 2022-04-29  20.08\n",
      "Hoja: Cervecerias ADR Stock Price His\n",
      "        Date  Price\n",
      "0 2022-04-25  13.40\n",
      "1 2022-04-26  13.34\n",
      "2 2022-04-27  13.37\n",
      "3 2022-04-28  13.37\n",
      "4 2022-04-29  13.34\n",
      "Hoja: Enel Chile ADR Stock Price Hist\n",
      "        Date  Price\n",
      "0 2022-04-25   1.42\n",
      "1 2022-04-26   1.36\n",
      "2 2022-04-27   1.33\n",
      "3 2022-04-28   1.36\n",
      "4 2022-04-29   1.34\n",
      "Hoja: LATAM Airlines ADR Stock Price \n",
      "        Date    Price\n",
      "0 2022-04-25  578.326\n",
      "1 2022-04-26  570.485\n",
      "2 2022-04-27  558.722\n",
      "3 2022-04-28  567.740\n",
      "4 2022-04-29  545.979\n"
     ]
    }
   ],
   "source": [
    "# Mostrar las primeras filas de cada hoja\n",
    "for hoja, df in datos.items():\n",
    "    print(f\"Hoja: {hoja}\")\n",
    "    print(df.head())"
   ]
  },
  {
   "cell_type": "code",
   "execution_count": 16,
   "id": "9c73cb6b",
   "metadata": {},
   "outputs": [
    {
     "name": "stdout",
     "output_type": "stream",
     "text": [
      "Sheet Tipo de Cambio skipped because it's only exchange rate\n"
     ]
    }
   ],
   "source": [
    "### Procesamiento de datos\n",
    "# Calcular retornos logarítmicos diarios excluyendo el último año (solo para hojas con 'Date' y 'Price'; se omite 'Tipo de Cambio')\n",
    "log_returns = {}\n",
    "exchange_rate = datos.get(\"Tipo de Cambio\")\n",
    "if exchange_rate is not None and not exchange_rate.empty:\n",
    "    exchange_rate['Date'] = pd.to_datetime(exchange_rate['Date'])\n",
    "    exchange_rate.sort_values('Date', inplace=True)\n",
    "    # Se asume que la tasa se encuentra en la columna 'Price' de la hoja 'Tipo de Cambio'\n",
    "for asset, df in datos.items():\n",
    "    if asset == \"Tipo de Cambio\":\n",
    "        print(f\"Sheet {asset} skipped because it's only exchange rate\")\n",
    "        continue  # Omitir esta hoja\n",
    "    if df.empty or 'Date' not in df.columns or 'Price' not in df.columns:\n",
    "        print(f\"Sheet {asset} skipped, missing 'Date' or 'Price' columns or is empty.\")\n",
    "        continue\n",
    "    df['Date'] = pd.to_datetime(df['Date'])\n",
    "    df.sort_values('Date', inplace=True)\n",
    "    # Convertir precio a pesos usando la tasa de cambio según la fecha\n",
    "    if exchange_rate is not None and not exchange_rate.empty:\n",
    "        # Merge por fecha; se asume que las fechas coinciden\n",
    "        df = pd.merge(df, exchange_rate[['Date', 'Price']], on='Date', how='left', suffixes=('', '_tc'))\n",
    "        # Calcular el precio en pesos; 'Price_tc' es la tasa de cambio\n",
    "        df['Price'] = df['Price'] * df['Price_tc']\n",
    "    cutoff = df['Date'].max() - pd.DateOffset(years=1)\n",
    "    df_filtered = df[df['Date'] <= cutoff].copy()\n",
    "    df_filtered['log_return'] = np.log(df_filtered['Price'] / df_filtered['Price'].shift(1))\n",
    "    log_returns[asset] = df_filtered.dropna(subset=['log_return'])\n"
   ]
  },
  {
   "cell_type": "code",
   "execution_count": 17,
   "id": "2c4cf8e4",
   "metadata": {},
   "outputs": [],
   "source": [
    "# Calcular retornos y volatilidades anuales\n",
    "expected_returns_annual = {}\n",
    "volatility_annual = {}\n",
    "for asset, df in log_returns.items():\n",
    "    mu_daily = df['log_return'].mean()\n",
    "    sigma_daily = df['log_return'].std()\n",
    "    expected_returns_annual[asset] = mu_daily * 252\n",
    "    volatility_annual[asset] = sigma_daily * np.sqrt(252)"
   ]
  },
  {
   "cell_type": "code",
   "execution_count": 18,
   "id": "02461c71",
   "metadata": {},
   "outputs": [
    {
     "name": "stdout",
     "output_type": "stream",
     "text": [
      "Retornos esperados anuales por activo: {'Apple Stock Price History (3)': 0.06423503148322413, 'Coca-Cola Stock Price History (': -0.009920298981633935, 'Banco De Chile Stock Price Hist': 0.08066535806790401, 'Cervecerias ADR Stock Price His': 0.032947083554400104, 'Enel Chile ADR Stock Price Hist': 0.3765000559882921, 'LATAM Airlines ADR Stock Price ': 0.7099133123279309}\n",
      "Volatilidades anuales por activo: {'Apple Stock Price History (3)': 0.31701069894139905, 'Coca-Cola Stock Price History (': 0.22709473341007225, 'Banco De Chile Stock Price Hist': 0.3153608982243638, 'Cervecerias ADR Stock Price His': 0.3384033411492278, 'Enel Chile ADR Stock Price Hist': 0.4848994954948085, 'LATAM Airlines ADR Stock Price ': 1.0757716077798785}\n"
     ]
    }
   ],
   "source": [
    "# Unir los retornos en un DataFrame (excluyendo la hoja 'Tipo de Cambio') y calcular la matriz de covarianza anualizada\n",
    "returns_df = pd.DataFrame({asset: df.set_index('Date')['log_return'] for asset, df in log_returns.items() if asset != \"Tipo de Cambio\"})\n",
    "cov_daily = returns_df.cov()\n",
    "cov_annual = cov_daily * 252\n",
    "\n",
    "### (a) Retornos esperados y volatilidades\n",
    "print(\"Retornos esperados anuales por activo:\", expected_returns_annual)\n",
    "print(\"Volatilidades anuales por activo:\", volatility_annual)"
   ]
  },
  {
   "cell_type": "markdown",
   "id": "e05688b7",
   "metadata": {},
   "source": [
    "## (b) Cartera de mínima varianza y (c) Recomendación: Cartera de mínimo riesgo\n",
    "\n",
    "La siguiente celda estima la cartera de mínima varianza (parte de la frontera eficiente) y emite una recomendación."
   ]
  },
  {
   "cell_type": "code",
   "execution_count": null,
   "id": "47e89692",
   "metadata": {},
   "outputs": [],
   "source": [
    "# filepath: /Users/leandrovenegas/Documents/GitHub/Uni/tarea2.ipynb\n",
    "## Cartera de mínima varianza\n",
    "ones = np.ones(len(returns_df.columns))\n",
    "inv_cov = np.linalg.inv(cov_annual)\n",
    "w_min = inv_cov.dot(ones) / ones.dot(inv_cov).dot(ones)\n",
    "port_return_min = sum(w_min[i] * expected_returns_annual[asset] for i, asset in enumerate(returns_df.columns))\n",
    "port_vol_min = np.sqrt(w_min.T.dot(cov_annual).dot(w_min))\n",
    "print(\"Cartera de mínima varianza:\")\n",
    "print(\"Pesos:\", w_min)\n",
    "print(\"Retorno anual esperado:\", port_return_min)\n",
    "print(\"Volatilidad anual:\", port_vol_min)\n",
    "\n",
    "## (c) Recomendación de inversión: usar la cartera de mínimo riesgo\n",
    "print(\"Recomendación de inversión (cartera de mínimo riesgo):\")\n",
    "print(\"Pesos:\", w_min)\n",
    "print(\"Rentabilidad esperada anual:\", port_return_min)\n",
    "print(\"Volatilidad anual:\", port_vol_min)"
   ]
  },
  {
   "cell_type": "markdown",
   "id": "a52afc5a",
   "metadata": {},
   "source": [
    "## (d) Cartera tangente con tasa libre de riesgo\n",
    "\n",
    "Se utiliza una tasa libre de riesgo (por ejemplo, 3%) para obtener la cartera tangente."
   ]
  },
  {
   "cell_type": "code",
   "execution_count": null,
   "id": "f8b66c64",
   "metadata": {},
   "outputs": [],
   "source": [
    "# filepath: /Users/leandrovenegas/Documents/GitHub/Uni/tarea2.ipynb\n",
    "risk_free_rate = 0.03\n",
    "excess_returns = np.array([expected_returns_annual[asset] - risk_free_rate for asset in returns_df.columns])\n",
    "w_tan = inv_cov.dot(excess_returns) / ones.dot(inv_cov).dot(excess_returns)\n",
    "tan_return = sum(w_tan[i] * expected_returns_annual[asset] for i, asset in enumerate(returns_df.columns))\n",
    "tan_vol = np.sqrt(w_tan.T.dot(cov_annual).dot(w_tan))\n",
    "print(\"Cartera tangente (nueva frontera eficiente):\")\n",
    "print(\"Pesos:\", w_tan)\n",
    "print(\"Retorno anual esperado:\", tan_return)\n",
    "print(\"Volatilidad anual:\", tan_vol)"
   ]
  },
  {
   "cell_type": "markdown",
   "id": "13b0a5f8",
   "metadata": {},
   "source": [
    "## (e) Cartera de mercado y betas\n",
    "\n",
    "Se asume que la cartera de mercado es la cartera tangente calculada en (d). Se calcula el retorno y la volatilidad anual, y se estima el beta de cada activo."
   ]
  },
  {
   "cell_type": "code",
   "execution_count": null,
   "id": "1efd0fdf",
   "metadata": {},
   "outputs": [],
   "source": [
    "# filepath: /Users/leandrovenegas/Documents/GitHub/Uni/tarea2.ipynb\n",
    "market_weights = w_tan\n",
    "market_return_daily = returns_df.dot(market_weights)\n",
    "market_return_expected = market_return_daily.mean() * 252\n",
    "market_vol_daily = market_return_daily.std()\n",
    "market_vol_annual = market_vol_daily * np.sqrt(252)\n",
    "print(\"Cartera de mercado (tangente):\")\n",
    "print(\"Pesos:\", market_weights)\n",
    "print(\"Retorno anual esperado:\", market_return_expected)\n",
    "print(\"Volatilidad anual:\", market_vol_annual)\n",
    "\n",
    "market_var_daily = market_return_daily.var()\n",
    "betas = {}\n",
    "for asset in returns_df.columns:\n",
    "    cov_asset = np.cov(returns_df[asset], market_return_daily)[0, 1]\n",
    "    betas[asset] = cov_asset / market_var_daily\n",
    "print(\"Betas de cada activo respecto a la cartera de mercado:\", betas)"
   ]
  },
  {
   "cell_type": "markdown",
   "id": "6628cd3c",
   "metadata": {},
   "source": [
    "## (f) Optimización sin ventas cortas\n",
    "\n",
    "Utilizando `scipy.optimize.minimize`, se optimiza la cartera de mínima varianza y la tangente imponiendo que todos los pesos sean mayores o iguales a cero y que sumen 1."
   ]
  },
  {
   "cell_type": "code",
   "execution_count": null,
   "id": "0d08713a",
   "metadata": {},
   "outputs": [],
   "source": [
    "# filepath: /Users/leandrovenegas/Documents/GitHub/Uni/tarea2.ipynb\n",
    "from scipy.optimize import minimize\n",
    "\n",
    "def portfolio_volatility(weights, cov_matrix):\n",
    "    return np.sqrt(weights.T.dot(cov_matrix).dot(weights))\n",
    "\n",
    "n = len(returns_df.columns)\n",
    "bounds = [(0, 1)] * n\n",
    "constraints = [{'type': 'eq', 'fun': lambda w: np.sum(w) - 1}]\n",
    "\n",
    "# f.1) Cartera de mínima varianza sin ventas cortas\n",
    "def min_vol_objective(weights):\n",
    "    return portfolio_volatility(weights, cov_annual)\n",
    "\n",
    "res_min_ns = minimize(min_vol_objective, np.ones(n)/n, bounds=bounds, constraints=constraints)\n",
    "w_min_ns = res_min_ns.x\n",
    "port_return_min_ns = sum(w_min_ns[i] * expected_returns_annual[asset] for i, asset in enumerate(returns_df.columns))\n",
    "port_vol_min_ns = portfolio_volatility(w_min_ns, cov_annual)\n",
    "print(\"Cartera de mínima varianza (sin ventas cortas):\")\n",
    "print(\"Pesos:\", w_min_ns)\n",
    "print(\"Retorno anual esperado:\", port_return_min_ns)\n",
    "print(\"Volatilidad anual:\", port_vol_min_ns)\n",
    "\n",
    "# f.2) Cartera tangente sin ventas cortas (maximizar Sharpe)\n",
    "def neg_sharpe(weights):\n",
    "    port_return = sum(weights[i] * expected_returns_annual[asset] for i, asset in enumerate(returns_df.columns))\n",
    "    port_vol = portfolio_volatility(weights, cov_annual)\n",
    "    sharpe = (port_return - risk_free_rate) / port_vol if port_vol != 0 else -1e6\n",
    "    return -sharpe\n",
    "\n",
    "res_tan_ns = minimize(neg_sharpe, np.ones(n)/n, bounds=bounds, constraints=constraints)\n",
    "w_tan_ns = res_tan_ns.x\n",
    "tan_return_ns = sum(w_tan_ns[i] * expected_returns_annual[asset] for i, asset in enumerate(returns_df.columns))\n",
    "tan_vol_ns = portfolio_volatility(w_tan_ns, cov_annual)\n",
    "print(\"Cartera tangente (sin ventas cortas):\")\n",
    "print(\"Pesos:\", w_tan_ns)\n",
    "print(\"Retorno anual esperado:\", tan_return_ns)\n",
    "print(\"Volatilidad anual:\", tan_vol_ns)"
   ]
  },
  {
   "cell_type": "markdown",
   "id": "b47b56d9",
   "metadata": {},
   "source": [
    "## (g) Construcción de 3 carteras en la frontera sin ventas cortas y evaluación del desempeño\n",
    "\n",
    "Se crean tres portafolios (A, B y C) con distintos objetivos de retorno y se evalúa el desempeño en el último año."
   ]
  },
  {
   "cell_type": "code",
   "execution_count": null,
   "id": "ddd52440",
   "metadata": {},
   "outputs": [],
   "source": [
    "# filepath: /Users/leandrovenegas/Documents/GitHub/Uni/tarea2.ipynb\n",
    "def optimize_portfolio_target(target_return):\n",
    "    cons = constraints + [{'type': 'eq', 'fun': lambda w: sum(w[i] * expected_returns_annual[asset] for i, asset in enumerate(returns_df.columns)) - target_return}]\n",
    "    res = minimize(min_vol_objective, np.ones(n)/n, bounds=bounds, constraints=cons)\n",
    "    return res.x\n",
    "\n",
    "# Definir 3 objetivos de retorno\n",
    "target_low = port_return_min_ns + 0.0005   # objetivo ligeramente superior a la cartera mínima\n",
    "target_med = (port_return_min_ns + tan_return_ns) / 2\n",
    "target_high = tan_return_ns - 0.0005          # objetivo ligeramente inferior al máximo\n",
    "\n",
    "w_low = optimize_portfolio_target(target_low)\n",
    "w_med = optimize_portfolio_target(target_med)\n",
    "w_high = optimize_portfolio_target(target_high)\n",
    "\n",
    "def performance_last_year(weights):\n",
    "    last_year_returns = []\n",
    "    for asset, df in datos.items():\n",
    "        if df.empty or 'Date' not in df.columns or 'Price' not in df.columns:\n",
    "            continue\n",
    "        df['Date'] = pd.to_datetime(df['Date'])\n",
    "        df.sort_values('Date', inplace=True)\n",
    "        cutoff = df['Date'].max() - pd.DateOffset(years=1)\n",
    "        df_ly = df[df['Date'] > cutoff].copy()\n",
    "        df_ly['log_return'] = np.log(df_ly['Price'] / df_ly['Price'].shift(1))\n",
    "        df_ly = df_ly.dropna(subset=['log_return'])\n",
    "        last_year_returns.append(df_ly.set_index('Date')['log_return'].rename(asset))\n",
    "    if not last_year_returns:\n",
    "        return None, None\n",
    "    ly_df = pd.concat(last_year_returns, axis=1).dropna()\n",
    "    port_daily = ly_df.dot(weights)\n",
    "    cum_return = np.exp(port_daily.sum()) - 1\n",
    "    return port_daily.mean(), cum_return\n",
    "\n",
    "print(\"Cartera A (alto riesgo, sin ventas cortas):\")\n",
    "print(\"Pesos:\", w_high)\n",
    "mean_A, cum_A = performance_last_year(w_high)\n",
    "print(\"Retorno diario promedio:\", mean_A, \"Retorno acumulado:\", cum_A)\n",
    "\n",
    "print(\"Cartera B (riesgo mediano, sin ventas cortas):\")\n",
    "print(\"Pesos:\", w_med)\n",
    "mean_B, cum_B = performance_last_year(w_med)\n",
    "print(\"Retorno diario promedio:\", mean_B, \"Retorno acumulado:\", cum_B)\n",
    "\n",
    "print(\"Cartera C (bajo riesgo, sin ventas cortas):\")\n",
    "print(\"Pesos:\", w_low)\n",
    "mean_C, cum_C = performance_last_year(w_low)\n",
    "print(\"Retorno diario promedio:\", mean_C, \"Retorno acumulado:\", cum_C)"
   ]
  },
  {
   "cell_type": "markdown",
   "id": "a863eb43",
   "metadata": {},
   "source": [
    "## (h) Modelo Black-Litterman (Bonus)\n",
    "\n",
    "Implementación simplificada del modelo Black-Litterman. Se parte de los retornos implícitos del mercado y se incorpora una vista sobre el primer activo."
   ]
  },
  {
   "cell_type": "code",
   "execution_count": null,
   "id": "13aa3d81",
   "metadata": {},
   "outputs": [],
   "source": []
  }
 ],
 "metadata": {
  "kernelspec": {
   "display_name": "Python 3",
   "language": "python",
   "name": "python3"
  },
  "language_info": {
   "codemirror_mode": {
    "name": "ipython",
    "version": 3
   },
   "file_extension": ".py",
   "mimetype": "text/x-python",
   "name": "python",
   "nbconvert_exporter": "python",
   "pygments_lexer": "ipython3",
   "version": "3.11.9"
  }
 },
 "nbformat": 4,
 "nbformat_minor": 5
}
